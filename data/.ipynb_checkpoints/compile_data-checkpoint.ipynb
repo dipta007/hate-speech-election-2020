{
 "cells": [
  {
   "cell_type": "code",
   "execution_count": 1,
   "id": "tribal-bobby",
   "metadata": {},
   "outputs": [],
   "source": [
    "import pandas as pd"
   ]
  },
  {
   "cell_type": "code",
   "execution_count": 7,
   "id": "every-cinema",
   "metadata": {},
   "outputs": [
    {
     "name": "stdout",
     "output_type": "stream",
     "text": [
      "compile_data.ipynb\t    labeled_data.csv\t     train_E6oV3lV.csv\n",
      "hate-speech-dataset-master  test_tweets_anuFYb8.csv\n"
     ]
    }
   ],
   "source": [
    "!ls"
   ]
  },
  {
   "cell_type": "code",
   "execution_count": 122,
   "id": "lucky-briefs",
   "metadata": {},
   "outputs": [
    {
     "data": {
      "text/html": [
       "<div>\n",
       "<style scoped>\n",
       "    .dataframe tbody tr th:only-of-type {\n",
       "        vertical-align: middle;\n",
       "    }\n",
       "\n",
       "    .dataframe tbody tr th {\n",
       "        vertical-align: top;\n",
       "    }\n",
       "\n",
       "    .dataframe thead th {\n",
       "        text-align: right;\n",
       "    }\n",
       "</style>\n",
       "<table border=\"1\" class=\"dataframe\">\n",
       "  <thead>\n",
       "    <tr style=\"text-align: right;\">\n",
       "      <th></th>\n",
       "      <th>label</th>\n",
       "      <th>target</th>\n",
       "    </tr>\n",
       "  </thead>\n",
       "  <tbody>\n",
       "    <tr>\n",
       "      <th>0</th>\n",
       "      <td>!!! RT @mayasolovely: As a woman you shouldn't...</td>\n",
       "      <td>False</td>\n",
       "    </tr>\n",
       "    <tr>\n",
       "      <th>1</th>\n",
       "      <td>!!!!! RT @mleew17: boy dats cold...tyga dwn ba...</td>\n",
       "      <td>True</td>\n",
       "    </tr>\n",
       "    <tr>\n",
       "      <th>2</th>\n",
       "      <td>!!!!!!! RT @UrKindOfBrand Dawg!!!! RT @80sbaby...</td>\n",
       "      <td>True</td>\n",
       "    </tr>\n",
       "    <tr>\n",
       "      <th>3</th>\n",
       "      <td>!!!!!!!!! RT @C_G_Anderson: @viva_based she lo...</td>\n",
       "      <td>True</td>\n",
       "    </tr>\n",
       "    <tr>\n",
       "      <th>4</th>\n",
       "      <td>!!!!!!!!!!!!! RT @ShenikaRoberts: The shit you...</td>\n",
       "      <td>True</td>\n",
       "    </tr>\n",
       "  </tbody>\n",
       "</table>\n",
       "</div>"
      ],
      "text/plain": [
       "                                               label  target\n",
       "0  !!! RT @mayasolovely: As a woman you shouldn't...   False\n",
       "1  !!!!! RT @mleew17: boy dats cold...tyga dwn ba...    True\n",
       "2  !!!!!!! RT @UrKindOfBrand Dawg!!!! RT @80sbaby...    True\n",
       "3  !!!!!!!!! RT @C_G_Anderson: @viva_based she lo...    True\n",
       "4  !!!!!!!!!!!!! RT @ShenikaRoberts: The shit you...    True"
      ]
     },
     "execution_count": 122,
     "metadata": {},
     "output_type": "execute_result"
    }
   ],
   "source": [
    "# Class - Type - Count\n",
    "# 0 - Hate - 1430\n",
    "# 1 - Offensive - 19190\n",
    "# 2 - Normal - 4163\n",
    "\n",
    "# True - 20620\n",
    "# False - 4163\n",
    "\n",
    "df = pd.read_csv(\"./random/labeled_data.csv\")\n",
    "\n",
    "ddf1 = pd.DataFrame()\n",
    "ddf1[\"label\"] = df[\"tweet\"]\n",
    "ddf1[\"target\"] = df.apply(lambda row: row[\"class\"] == 0 or row[\"class\"] == 1, axis=1)\n",
    "\n",
    "ddf1.head()"
   ]
  },
  {
   "cell_type": "code",
   "execution_count": 123,
   "id": "spoken-convenience",
   "metadata": {},
   "outputs": [
    {
     "data": {
      "text/html": [
       "<div>\n",
       "<style scoped>\n",
       "    .dataframe tbody tr th:only-of-type {\n",
       "        vertical-align: middle;\n",
       "    }\n",
       "\n",
       "    .dataframe tbody tr th {\n",
       "        vertical-align: top;\n",
       "    }\n",
       "\n",
       "    .dataframe thead th {\n",
       "        text-align: right;\n",
       "    }\n",
       "</style>\n",
       "<table border=\"1\" class=\"dataframe\">\n",
       "  <thead>\n",
       "    <tr style=\"text-align: right;\">\n",
       "      <th></th>\n",
       "      <th>label</th>\n",
       "      <th>target</th>\n",
       "    </tr>\n",
       "  </thead>\n",
       "  <tbody>\n",
       "    <tr>\n",
       "      <th>0</th>\n",
       "      <td>@user when a father is dysfunctional and is s...</td>\n",
       "      <td>False</td>\n",
       "    </tr>\n",
       "    <tr>\n",
       "      <th>1</th>\n",
       "      <td>@user @user thanks for #lyft credit i can't us...</td>\n",
       "      <td>False</td>\n",
       "    </tr>\n",
       "    <tr>\n",
       "      <th>2</th>\n",
       "      <td>bihday your majesty</td>\n",
       "      <td>False</td>\n",
       "    </tr>\n",
       "    <tr>\n",
       "      <th>3</th>\n",
       "      <td>#model   i love u take with u all the time in ...</td>\n",
       "      <td>False</td>\n",
       "    </tr>\n",
       "    <tr>\n",
       "      <th>4</th>\n",
       "      <td>factsguide: society now    #motivation</td>\n",
       "      <td>False</td>\n",
       "    </tr>\n",
       "  </tbody>\n",
       "</table>\n",
       "</div>"
      ],
      "text/plain": [
       "                                               label  target\n",
       "0   @user when a father is dysfunctional and is s...   False\n",
       "1  @user @user thanks for #lyft credit i can't us...   False\n",
       "2                                bihday your majesty   False\n",
       "3  #model   i love u take with u all the time in ...   False\n",
       "4             factsguide: society now    #motivation   False"
      ]
     },
     "execution_count": 123,
     "metadata": {},
     "output_type": "execute_result"
    }
   ],
   "source": [
    "# Class - Type - Count\n",
    "# 0 - Hate - 2242\n",
    "# 1 - Normal - 29720\n",
    "\n",
    "# True - 2242\n",
    "# False - 29720\n",
    "\n",
    "df = pd.read_csv(\"./tweets/train_E6oV3lV.csv\")\n",
    "\n",
    "ddf2 = pd.DataFrame()\n",
    "ddf2[\"label\"] = df[\"tweet\"]\n",
    "ddf2[\"target\"] = df.apply(lambda row: row.label == 1, axis=1)\n",
    "\n",
    "ddf2[\"target\"].value_counts()\n",
    "# df[\"label\"].value_counts()\n",
    "ddf2.head()"
   ]
  },
  {
   "cell_type": "code",
   "execution_count": 124,
   "id": "vocational-drill",
   "metadata": {},
   "outputs": [
    {
     "name": "stdout",
     "output_type": "stream",
     "text": [
      "all_files\t\t  LICENSE    sampled_test\n",
      "annotations_metadata.csv  README.md  sampled_train\n"
     ]
    }
   ],
   "source": [
    "!ls hate-speech-dataset-master"
   ]
  },
  {
   "cell_type": "code",
   "execution_count": 125,
   "id": "third-texas",
   "metadata": {},
   "outputs": [
    {
     "data": {
      "text/html": [
       "<div>\n",
       "<style scoped>\n",
       "    .dataframe tbody tr th:only-of-type {\n",
       "        vertical-align: middle;\n",
       "    }\n",
       "\n",
       "    .dataframe tbody tr th {\n",
       "        vertical-align: top;\n",
       "    }\n",
       "\n",
       "    .dataframe thead th {\n",
       "        text-align: right;\n",
       "    }\n",
       "</style>\n",
       "<table border=\"1\" class=\"dataframe\">\n",
       "  <thead>\n",
       "    <tr style=\"text-align: right;\">\n",
       "      <th></th>\n",
       "      <th>label</th>\n",
       "      <th>target</th>\n",
       "    </tr>\n",
       "  </thead>\n",
       "  <tbody>\n",
       "    <tr>\n",
       "      <th>0</th>\n",
       "      <td>I wish I had been in the youth corps .</td>\n",
       "      <td>False</td>\n",
       "    </tr>\n",
       "    <tr>\n",
       "      <th>1</th>\n",
       "      <td>I just took that test .</td>\n",
       "      <td>False</td>\n",
       "    </tr>\n",
       "    <tr>\n",
       "      <th>2</th>\n",
       "      <td>This is a video of a band from the Upper Siles...</td>\n",
       "      <td>False</td>\n",
       "    </tr>\n",
       "    <tr>\n",
       "      <th>3</th>\n",
       "      <td>Not the best round by any means , but 2 or 3 5...</td>\n",
       "      <td>False</td>\n",
       "    </tr>\n",
       "    <tr>\n",
       "      <th>4</th>\n",
       "      <td>Are you a Jew ?</td>\n",
       "      <td>False</td>\n",
       "    </tr>\n",
       "  </tbody>\n",
       "</table>\n",
       "</div>"
      ],
      "text/plain": [
       "                                               label  target\n",
       "0             I wish I had been in the youth corps .   False\n",
       "1                            I just took that test .   False\n",
       "2  This is a video of a band from the Upper Siles...   False\n",
       "3  Not the best round by any means , but 2 or 3 5...   False\n",
       "4                                    Are you a Jew ?   False"
      ]
     },
     "execution_count": 125,
     "metadata": {},
     "output_type": "execute_result"
    }
   ],
   "source": [
    "# True     1196\n",
    "# False    9748\n",
    "\n",
    "hate = {}\n",
    "df = pd.read_csv(\"./hate-speech-dataset-master/annotations_metadata.csv\")\n",
    "\n",
    "for ind, row in df.iterrows():\n",
    "    hate[row['file_id']] = row['label'] == 'hate'\n",
    "#     print(row['file_id'], row['label'])\n",
    "\n",
    "import os\n",
    "all_rows = []\n",
    "for (cur, dirs, files) in os.walk('./hate-speech-dataset-master/all_files/'):\n",
    "    for file in files:\n",
    "        with open(cur + file, 'r') as fp:\n",
    "            tweet = \"\"\n",
    "            for line in fp:\n",
    "                tweet += line\n",
    "            all_rows.append([tweet, hate[file[:-4]]])\n",
    "ddf3 = pd.DataFrame(all_rows, columns=[\"label\", \"target\"])\n",
    "\n",
    "ddf3.head()"
   ]
  },
  {
   "cell_type": "code",
   "execution_count": 126,
   "id": "productive-freedom",
   "metadata": {},
   "outputs": [
    {
     "data": {
      "text/plain": [
       "False    43631\n",
       "True     24058\n",
       "Name: target, dtype: int64"
      ]
     },
     "execution_count": 126,
     "metadata": {},
     "output_type": "execute_result"
    }
   ],
   "source": [
    "res = pd.concat([ddf1, ddf2, ddf3])\n",
    "res.head()\n",
    "\n",
    "res.count()\n",
    "res[\"target\"].value_counts()"
   ]
  },
  {
   "cell_type": "code",
   "execution_count": 127,
   "id": "mighty-practitioner",
   "metadata": {},
   "outputs": [
    {
     "name": "stdout",
     "output_type": "stream",
     "text": [
      "compile_data.ipynb  compiled.csv  hate-speech-dataset-master  random  tweets\n"
     ]
    }
   ],
   "source": [
    "!ls"
   ]
  },
  {
   "cell_type": "code",
   "execution_count": 128,
   "id": "social-longitude",
   "metadata": {},
   "outputs": [],
   "source": [
    "res.to_csv('./compiled.csv')"
   ]
  },
  {
   "cell_type": "code",
   "execution_count": null,
   "id": "temporal-faith",
   "metadata": {},
   "outputs": [],
   "source": []
  }
 ],
 "metadata": {
  "kernelspec": {
   "display_name": "Python 3",
   "language": "python",
   "name": "python3"
  },
  "language_info": {
   "codemirror_mode": {
    "name": "ipython",
    "version": 3
   },
   "file_extension": ".py",
   "mimetype": "text/x-python",
   "name": "python",
   "nbconvert_exporter": "python",
   "pygments_lexer": "ipython3",
   "version": "3.7.6"
  }
 },
 "nbformat": 4,
 "nbformat_minor": 5
}
