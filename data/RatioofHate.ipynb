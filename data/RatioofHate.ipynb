{
  "nbformat": 4,
  "nbformat_minor": 0,
  "metadata": {
    "colab": {
      "name": "RatioofHate.ipynb",
      "provenance": []
    },
    "kernelspec": {
      "name": "python3",
      "display_name": "Python 3"
    },
    "language_info": {
      "name": "python"
    }
  },
  "cells": [
    {
      "cell_type": "code",
      "metadata": {
        "id": "2H7C2T4iYMkz"
      },
      "source": [
        "import pandas as pd"
      ],
      "execution_count": 1,
      "outputs": []
    },
    {
      "cell_type": "code",
      "metadata": {
        "colab": {
          "base_uri": "https://localhost:8080/",
          "height": 195
        },
        "id": "J6IxsaAfYO0c",
        "outputId": "13010c8b-fdfb-4b66-c8cb-10c388f10c12"
      },
      "source": [
        "data = pd.read_csv(\"Fake_labeled.csv\")\n",
        "data.drop('Unnamed: 0', axis=1, inplace=True)\n",
        "data.drop('Unnamed: 0.1', axis=1, inplace=True)\n",
        "data.head()"
      ],
      "execution_count": 2,
      "outputs": [
        {
          "output_type": "execute_result",
          "data": {
            "text/html": [
              "<div>\n",
              "<style scoped>\n",
              "    .dataframe tbody tr th:only-of-type {\n",
              "        vertical-align: middle;\n",
              "    }\n",
              "\n",
              "    .dataframe tbody tr th {\n",
              "        vertical-align: top;\n",
              "    }\n",
              "\n",
              "    .dataframe thead th {\n",
              "        text-align: right;\n",
              "    }\n",
              "</style>\n",
              "<table border=\"1\" class=\"dataframe\">\n",
              "  <thead>\n",
              "    <tr style=\"text-align: right;\">\n",
              "      <th></th>\n",
              "      <th>date</th>\n",
              "      <th>id</th>\n",
              "      <th>tweet_text</th>\n",
              "      <th>label</th>\n",
              "    </tr>\n",
              "  </thead>\n",
              "  <tbody>\n",
              "    <tr>\n",
              "      <th>0</th>\n",
              "      <td>2020-10-05</td>\n",
              "      <td>1312908203252805634</td>\n",
              "      <td>called paying respects people love depend hate...</td>\n",
              "      <td>Not Hate</td>\n",
              "    </tr>\n",
              "    <tr>\n",
              "      <th>1</th>\n",
              "      <td>2020-10-05</td>\n",
              "      <td>1312909076536283137</td>\n",
              "      <td>whenever god shines light</td>\n",
              "      <td>Not Hate</td>\n",
              "    </tr>\n",
              "    <tr>\n",
              "      <th>2</th>\n",
              "      <td>2020-10-05</td>\n",
              "      <td>1313117116527239174</td>\n",
              "      <td>webinar tomorrow military readiness face globa...</td>\n",
              "      <td>Not Hate</td>\n",
              "    </tr>\n",
              "    <tr>\n",
              "      <th>3</th>\n",
              "      <td>2020-10-05</td>\n",
              "      <td>1313133005234409472</td>\n",
              "      <td>france looks restore influence lebanon iran bu...</td>\n",
              "      <td>Not Hate</td>\n",
              "    </tr>\n",
              "    <tr>\n",
              "      <th>4</th>\n",
              "      <td>2020-10-05</td>\n",
              "      <td>1313139211826917379</td>\n",
              "      <td>song day yon two crows</td>\n",
              "      <td>Not Hate</td>\n",
              "    </tr>\n",
              "  </tbody>\n",
              "</table>\n",
              "</div>"
            ],
            "text/plain": [
              "         date  ...     label\n",
              "0  2020-10-05  ...  Not Hate\n",
              "1  2020-10-05  ...  Not Hate\n",
              "2  2020-10-05  ...  Not Hate\n",
              "3  2020-10-05  ...  Not Hate\n",
              "4  2020-10-05  ...  Not Hate\n",
              "\n",
              "[5 rows x 4 columns]"
            ]
          },
          "metadata": {
            "tags": []
          },
          "execution_count": 2
        }
      ]
    },
    {
      "cell_type": "code",
      "metadata": {
        "colab": {
          "base_uri": "https://localhost:8080/"
        },
        "id": "mizBr_jLYTq7",
        "outputId": "9b7fde30-5efe-459a-8d2c-d76e0c66c578"
      },
      "source": [
        "#check days\n",
        "arr = data.date.values\n",
        "arr = set(arr)\n",
        "len(arr)"
      ],
      "execution_count": 3,
      "outputs": [
        {
          "output_type": "execute_result",
          "data": {
            "text/plain": [
              "115"
            ]
          },
          "metadata": {
            "tags": []
          },
          "execution_count": 3
        }
      ]
    },
    {
      "cell_type": "code",
      "metadata": {
        "id": "TaDP0DA8YXYp"
      },
      "source": [
        "df = data"
      ],
      "execution_count": 4,
      "outputs": []
    },
    {
      "cell_type": "code",
      "metadata": {
        "id": "SqP2EkWoYZuJ"
      },
      "source": [
        "df = df.groupby('date')['label'].apply(list).reset_index(name='labels')"
      ],
      "execution_count": 5,
      "outputs": []
    },
    {
      "cell_type": "code",
      "metadata": {
        "colab": {
          "base_uri": "https://localhost:8080/",
          "height": 195
        },
        "id": "34Uq1uouYhKs",
        "outputId": "e14ed32b-4f84-402d-c009-00d2b92ce067"
      },
      "source": [
        "df.head()"
      ],
      "execution_count": 6,
      "outputs": [
        {
          "output_type": "execute_result",
          "data": {
            "text/html": [
              "<div>\n",
              "<style scoped>\n",
              "    .dataframe tbody tr th:only-of-type {\n",
              "        vertical-align: middle;\n",
              "    }\n",
              "\n",
              "    .dataframe tbody tr th {\n",
              "        vertical-align: top;\n",
              "    }\n",
              "\n",
              "    .dataframe thead th {\n",
              "        text-align: right;\n",
              "    }\n",
              "</style>\n",
              "<table border=\"1\" class=\"dataframe\">\n",
              "  <thead>\n",
              "    <tr style=\"text-align: right;\">\n",
              "      <th></th>\n",
              "      <th>date</th>\n",
              "      <th>labels</th>\n",
              "    </tr>\n",
              "  </thead>\n",
              "  <tbody>\n",
              "    <tr>\n",
              "      <th>0</th>\n",
              "      <td>2020-10-05</td>\n",
              "      <td>[Not Hate, Not Hate, Not Hate, Not Hate, Not H...</td>\n",
              "    </tr>\n",
              "    <tr>\n",
              "      <th>1</th>\n",
              "      <td>2020-10-06</td>\n",
              "      <td>[Not Hate, Not Hate, Not Hate, Not Hate, Not H...</td>\n",
              "    </tr>\n",
              "    <tr>\n",
              "      <th>2</th>\n",
              "      <td>2020-10-07</td>\n",
              "      <td>[Not Hate, Hate, Hate, Not Hate, Hate, Not Hat...</td>\n",
              "    </tr>\n",
              "    <tr>\n",
              "      <th>3</th>\n",
              "      <td>2020-10-08</td>\n",
              "      <td>[Not Hate, Not Hate, Not Hate, Not Hate, Not H...</td>\n",
              "    </tr>\n",
              "    <tr>\n",
              "      <th>4</th>\n",
              "      <td>2020-10-09</td>\n",
              "      <td>[Hate, Not Hate, Not Hate, Not Hate, Not Hate,...</td>\n",
              "    </tr>\n",
              "  </tbody>\n",
              "</table>\n",
              "</div>"
            ],
            "text/plain": [
              "         date                                             labels\n",
              "0  2020-10-05  [Not Hate, Not Hate, Not Hate, Not Hate, Not H...\n",
              "1  2020-10-06  [Not Hate, Not Hate, Not Hate, Not Hate, Not H...\n",
              "2  2020-10-07  [Not Hate, Hate, Hate, Not Hate, Hate, Not Hat...\n",
              "3  2020-10-08  [Not Hate, Not Hate, Not Hate, Not Hate, Not H...\n",
              "4  2020-10-09  [Hate, Not Hate, Not Hate, Not Hate, Not Hate,..."
            ]
          },
          "metadata": {
            "tags": []
          },
          "execution_count": 6
        }
      ]
    },
    {
      "cell_type": "code",
      "metadata": {
        "id": "SEQoKcspYh3Z"
      },
      "source": [
        "df['Hate'] = df.apply(lambda row: row.labels.count('Hate'), axis = 1)\n",
        "df['Not_Hate'] = df.apply(lambda row: row.labels.count('Not Hate'), axis = 1)\n",
        "df['RatioofHate'] = df.apply(lambda row: row.labels.count('Hate')/len(row.labels), axis = 1)\n",
        "df['RatioofNotHate'] = df.apply(lambda row: row.labels.count('Not Hate')/len(row.labels), axis = 1)"
      ],
      "execution_count": 7,
      "outputs": []
    },
    {
      "cell_type": "code",
      "metadata": {
        "colab": {
          "base_uri": "https://localhost:8080/",
          "height": 402
        },
        "id": "aELN_X2UYpKa",
        "outputId": "0242b365-4daf-405b-85d1-8af45c8fbe96"
      },
      "source": [
        "df"
      ],
      "execution_count": 8,
      "outputs": [
        {
          "output_type": "execute_result",
          "data": {
            "text/html": [
              "<div>\n",
              "<style scoped>\n",
              "    .dataframe tbody tr th:only-of-type {\n",
              "        vertical-align: middle;\n",
              "    }\n",
              "\n",
              "    .dataframe tbody tr th {\n",
              "        vertical-align: top;\n",
              "    }\n",
              "\n",
              "    .dataframe thead th {\n",
              "        text-align: right;\n",
              "    }\n",
              "</style>\n",
              "<table border=\"1\" class=\"dataframe\">\n",
              "  <thead>\n",
              "    <tr style=\"text-align: right;\">\n",
              "      <th></th>\n",
              "      <th>date</th>\n",
              "      <th>labels</th>\n",
              "      <th>Hate</th>\n",
              "      <th>Not_Hate</th>\n",
              "      <th>RatioofHate</th>\n",
              "      <th>RatioofNotHate</th>\n",
              "    </tr>\n",
              "  </thead>\n",
              "  <tbody>\n",
              "    <tr>\n",
              "      <th>0</th>\n",
              "      <td>2020-10-05</td>\n",
              "      <td>[Not Hate, Not Hate, Not Hate, Not Hate, Not H...</td>\n",
              "      <td>1</td>\n",
              "      <td>27</td>\n",
              "      <td>0.035714</td>\n",
              "      <td>0.964286</td>\n",
              "    </tr>\n",
              "    <tr>\n",
              "      <th>1</th>\n",
              "      <td>2020-10-06</td>\n",
              "      <td>[Not Hate, Not Hate, Not Hate, Not Hate, Not H...</td>\n",
              "      <td>8</td>\n",
              "      <td>27</td>\n",
              "      <td>0.228571</td>\n",
              "      <td>0.771429</td>\n",
              "    </tr>\n",
              "    <tr>\n",
              "      <th>2</th>\n",
              "      <td>2020-10-07</td>\n",
              "      <td>[Not Hate, Hate, Hate, Not Hate, Hate, Not Hat...</td>\n",
              "      <td>12</td>\n",
              "      <td>34</td>\n",
              "      <td>0.260870</td>\n",
              "      <td>0.739130</td>\n",
              "    </tr>\n",
              "    <tr>\n",
              "      <th>3</th>\n",
              "      <td>2020-10-08</td>\n",
              "      <td>[Not Hate, Not Hate, Not Hate, Not Hate, Not H...</td>\n",
              "      <td>8</td>\n",
              "      <td>33</td>\n",
              "      <td>0.195122</td>\n",
              "      <td>0.804878</td>\n",
              "    </tr>\n",
              "    <tr>\n",
              "      <th>4</th>\n",
              "      <td>2020-10-09</td>\n",
              "      <td>[Hate, Not Hate, Not Hate, Not Hate, Not Hate,...</td>\n",
              "      <td>8</td>\n",
              "      <td>21</td>\n",
              "      <td>0.275862</td>\n",
              "      <td>0.724138</td>\n",
              "    </tr>\n",
              "    <tr>\n",
              "      <th>...</th>\n",
              "      <td>...</td>\n",
              "      <td>...</td>\n",
              "      <td>...</td>\n",
              "      <td>...</td>\n",
              "      <td>...</td>\n",
              "      <td>...</td>\n",
              "    </tr>\n",
              "    <tr>\n",
              "      <th>110</th>\n",
              "      <td>2021-01-23</td>\n",
              "      <td>[Not Hate, Not Hate, Not Hate, Not Hate, Not H...</td>\n",
              "      <td>17</td>\n",
              "      <td>223</td>\n",
              "      <td>0.070833</td>\n",
              "      <td>0.929167</td>\n",
              "    </tr>\n",
              "    <tr>\n",
              "      <th>111</th>\n",
              "      <td>2021-01-24</td>\n",
              "      <td>[Not Hate, Hate, Not Hate, Not Hate, Not Hate,...</td>\n",
              "      <td>13</td>\n",
              "      <td>153</td>\n",
              "      <td>0.078313</td>\n",
              "      <td>0.921687</td>\n",
              "    </tr>\n",
              "    <tr>\n",
              "      <th>112</th>\n",
              "      <td>2021-01-25</td>\n",
              "      <td>[Not Hate, Not Hate, Not Hate, Not Hate, Not H...</td>\n",
              "      <td>12</td>\n",
              "      <td>205</td>\n",
              "      <td>0.055300</td>\n",
              "      <td>0.944700</td>\n",
              "    </tr>\n",
              "    <tr>\n",
              "      <th>113</th>\n",
              "      <td>2021-01-26</td>\n",
              "      <td>[Not Hate, Not Hate, Not Hate, Not Hate, Not H...</td>\n",
              "      <td>22</td>\n",
              "      <td>357</td>\n",
              "      <td>0.058047</td>\n",
              "      <td>0.941953</td>\n",
              "    </tr>\n",
              "    <tr>\n",
              "      <th>114</th>\n",
              "      <td>2021-01-27</td>\n",
              "      <td>[Not Hate, Not Hate, Not Hate, Not Hate, Not H...</td>\n",
              "      <td>20</td>\n",
              "      <td>333</td>\n",
              "      <td>0.056657</td>\n",
              "      <td>0.943343</td>\n",
              "    </tr>\n",
              "  </tbody>\n",
              "</table>\n",
              "<p>115 rows × 6 columns</p>\n",
              "</div>"
            ],
            "text/plain": [
              "           date  ... RatioofNotHate\n",
              "0    2020-10-05  ...       0.964286\n",
              "1    2020-10-06  ...       0.771429\n",
              "2    2020-10-07  ...       0.739130\n",
              "3    2020-10-08  ...       0.804878\n",
              "4    2020-10-09  ...       0.724138\n",
              "..          ...  ...            ...\n",
              "110  2021-01-23  ...       0.929167\n",
              "111  2021-01-24  ...       0.921687\n",
              "112  2021-01-25  ...       0.944700\n",
              "113  2021-01-26  ...       0.941953\n",
              "114  2021-01-27  ...       0.943343\n",
              "\n",
              "[115 rows x 6 columns]"
            ]
          },
          "metadata": {
            "tags": []
          },
          "execution_count": 8
        }
      ]
    },
    {
      "cell_type": "code",
      "metadata": {
        "id": "ph0IcefpYpp5"
      },
      "source": [
        "df.to_csv('Fake_ratio.csv')"
      ],
      "execution_count": 9,
      "outputs": []
    },
    {
      "cell_type": "code",
      "metadata": {
        "id": "Cm4YJEAdYqKJ"
      },
      "source": [
        ""
      ],
      "execution_count": null,
      "outputs": []
    }
  ]
}