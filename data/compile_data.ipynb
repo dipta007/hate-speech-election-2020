{
 "cells": [
  {
   "cell_type": "code",
   "execution_count": 16,
   "id": "tribal-bobby",
   "metadata": {},
   "outputs": [],
   "source": [
    "import pandas as pd"
   ]
  },
  {
   "cell_type": "code",
   "execution_count": 17,
   "id": "every-cinema",
   "metadata": {},
   "outputs": [
    {
     "name": "stdout",
     "output_type": "stream",
     "text": [
      "compile_data.ipynb  hate_speech.csv\t\trandom\r\n",
      "compiled.csv\t    hate-speech-dataset-master\ttweets\r\n"
     ]
    }
   ],
   "source": [
    "!ls"
   ]
  },
  {
   "cell_type": "code",
   "execution_count": 18,
   "id": "lucky-briefs",
   "metadata": {},
   "outputs": [
    {
     "data": {
      "text/html": [
       "<div>\n",
       "<style scoped>\n",
       "    .dataframe tbody tr th:only-of-type {\n",
       "        vertical-align: middle;\n",
       "    }\n",
       "\n",
       "    .dataframe tbody tr th {\n",
       "        vertical-align: top;\n",
       "    }\n",
       "\n",
       "    .dataframe thead th {\n",
       "        text-align: right;\n",
       "    }\n",
       "</style>\n",
       "<table border=\"1\" class=\"dataframe\">\n",
       "  <thead>\n",
       "    <tr style=\"text-align: right;\">\n",
       "      <th></th>\n",
       "      <th>label</th>\n",
       "      <th>target</th>\n",
       "    </tr>\n",
       "  </thead>\n",
       "  <tbody>\n",
       "    <tr>\n",
       "      <th>0</th>\n",
       "      <td>!!! RT @mayasolovely: As a woman you shouldn't...</td>\n",
       "      <td>False</td>\n",
       "    </tr>\n",
       "    <tr>\n",
       "      <th>1</th>\n",
       "      <td>!!!!! RT @mleew17: boy dats cold...tyga dwn ba...</td>\n",
       "      <td>True</td>\n",
       "    </tr>\n",
       "    <tr>\n",
       "      <th>2</th>\n",
       "      <td>!!!!!!! RT @UrKindOfBrand Dawg!!!! RT @80sbaby...</td>\n",
       "      <td>True</td>\n",
       "    </tr>\n",
       "    <tr>\n",
       "      <th>3</th>\n",
       "      <td>!!!!!!!!! RT @C_G_Anderson: @viva_based she lo...</td>\n",
       "      <td>True</td>\n",
       "    </tr>\n",
       "    <tr>\n",
       "      <th>4</th>\n",
       "      <td>!!!!!!!!!!!!! RT @ShenikaRoberts: The shit you...</td>\n",
       "      <td>True</td>\n",
       "    </tr>\n",
       "  </tbody>\n",
       "</table>\n",
       "</div>"
      ],
      "text/plain": [
       "                                               label  target\n",
       "0  !!! RT @mayasolovely: As a woman you shouldn't...   False\n",
       "1  !!!!! RT @mleew17: boy dats cold...tyga dwn ba...    True\n",
       "2  !!!!!!! RT @UrKindOfBrand Dawg!!!! RT @80sbaby...    True\n",
       "3  !!!!!!!!! RT @C_G_Anderson: @viva_based she lo...    True\n",
       "4  !!!!!!!!!!!!! RT @ShenikaRoberts: The shit you...    True"
      ]
     },
     "execution_count": 18,
     "metadata": {},
     "output_type": "execute_result"
    }
   ],
   "source": [
    "# Class - Type - Count\n",
    "# 0 - Hate - 1430\n",
    "# 1 - Offensive - 19190\n",
    "# 2 - Normal - 4163\n",
    "\n",
    "# True - 20620\n",
    "# False - 4163\n",
    "\n",
    "df = pd.read_csv(\"./random/labeled_data.csv\")\n",
    "\n",
    "ddf1 = pd.DataFrame()\n",
    "ddf1[\"label\"] = df[\"tweet\"]\n",
    "ddf1[\"target\"] = df.apply(lambda row: row[\"class\"] == 0 or row[\"class\"] == 1, axis=1)\n",
    "\n",
    "ddf1.head()"
   ]
  },
  {
   "cell_type": "code",
   "execution_count": 19,
   "id": "spoken-convenience",
   "metadata": {},
   "outputs": [
    {
     "data": {
      "text/html": [
       "<div>\n",
       "<style scoped>\n",
       "    .dataframe tbody tr th:only-of-type {\n",
       "        vertical-align: middle;\n",
       "    }\n",
       "\n",
       "    .dataframe tbody tr th {\n",
       "        vertical-align: top;\n",
       "    }\n",
       "\n",
       "    .dataframe thead th {\n",
       "        text-align: right;\n",
       "    }\n",
       "</style>\n",
       "<table border=\"1\" class=\"dataframe\">\n",
       "  <thead>\n",
       "    <tr style=\"text-align: right;\">\n",
       "      <th></th>\n",
       "      <th>label</th>\n",
       "      <th>target</th>\n",
       "    </tr>\n",
       "  </thead>\n",
       "  <tbody>\n",
       "    <tr>\n",
       "      <th>0</th>\n",
       "      <td>@user when a father is dysfunctional and is s...</td>\n",
       "      <td>False</td>\n",
       "    </tr>\n",
       "    <tr>\n",
       "      <th>1</th>\n",
       "      <td>@user @user thanks for #lyft credit i can't us...</td>\n",
       "      <td>False</td>\n",
       "    </tr>\n",
       "    <tr>\n",
       "      <th>2</th>\n",
       "      <td>bihday your majesty</td>\n",
       "      <td>False</td>\n",
       "    </tr>\n",
       "    <tr>\n",
       "      <th>3</th>\n",
       "      <td>#model   i love u take with u all the time in ...</td>\n",
       "      <td>False</td>\n",
       "    </tr>\n",
       "    <tr>\n",
       "      <th>4</th>\n",
       "      <td>factsguide: society now    #motivation</td>\n",
       "      <td>False</td>\n",
       "    </tr>\n",
       "  </tbody>\n",
       "</table>\n",
       "</div>"
      ],
      "text/plain": [
       "                                               label  target\n",
       "0   @user when a father is dysfunctional and is s...   False\n",
       "1  @user @user thanks for #lyft credit i can't us...   False\n",
       "2                                bihday your majesty   False\n",
       "3  #model   i love u take with u all the time in ...   False\n",
       "4             factsguide: society now    #motivation   False"
      ]
     },
     "execution_count": 19,
     "metadata": {},
     "output_type": "execute_result"
    }
   ],
   "source": [
    "# Class - Type - Count\n",
    "# 0 - Hate - 2242\n",
    "# 1 - Normal - 29720\n",
    "\n",
    "# True - 2242\n",
    "# False - 29720\n",
    "\n",
    "df = pd.read_csv(\"./tweets/train_E6oV3lV.csv\")\n",
    "\n",
    "ddf2 = pd.DataFrame()\n",
    "ddf2[\"label\"] = df[\"tweet\"]\n",
    "ddf2[\"target\"] = df.apply(lambda row: row.label == 1, axis=1)\n",
    "\n",
    "ddf2[\"target\"].value_counts()\n",
    "# df[\"label\"].value_counts()\n",
    "ddf2.head()"
   ]
  },
  {
   "cell_type": "code",
   "execution_count": 20,
   "id": "vocational-drill",
   "metadata": {},
   "outputs": [
    {
     "name": "stdout",
     "output_type": "stream",
     "text": [
      "all_files\t\t  LICENSE    sampled_test\r\n",
      "annotations_metadata.csv  README.md  sampled_train\r\n"
     ]
    }
   ],
   "source": [
    "!ls hate-speech-dataset-master"
   ]
  },
  {
   "cell_type": "code",
   "execution_count": 21,
   "id": "third-texas",
   "metadata": {},
   "outputs": [
    {
     "data": {
      "text/html": [
       "<div>\n",
       "<style scoped>\n",
       "    .dataframe tbody tr th:only-of-type {\n",
       "        vertical-align: middle;\n",
       "    }\n",
       "\n",
       "    .dataframe tbody tr th {\n",
       "        vertical-align: top;\n",
       "    }\n",
       "\n",
       "    .dataframe thead th {\n",
       "        text-align: right;\n",
       "    }\n",
       "</style>\n",
       "<table border=\"1\" class=\"dataframe\">\n",
       "  <thead>\n",
       "    <tr style=\"text-align: right;\">\n",
       "      <th></th>\n",
       "      <th>label</th>\n",
       "      <th>target</th>\n",
       "    </tr>\n",
       "  </thead>\n",
       "  <tbody>\n",
       "    <tr>\n",
       "      <th>0</th>\n",
       "      <td>I wish I had been in the youth corps .</td>\n",
       "      <td>False</td>\n",
       "    </tr>\n",
       "    <tr>\n",
       "      <th>1</th>\n",
       "      <td>I just took that test .</td>\n",
       "      <td>False</td>\n",
       "    </tr>\n",
       "    <tr>\n",
       "      <th>2</th>\n",
       "      <td>This is a video of a band from the Upper Siles...</td>\n",
       "      <td>False</td>\n",
       "    </tr>\n",
       "    <tr>\n",
       "      <th>3</th>\n",
       "      <td>Not the best round by any means , but 2 or 3 5...</td>\n",
       "      <td>False</td>\n",
       "    </tr>\n",
       "    <tr>\n",
       "      <th>4</th>\n",
       "      <td>Are you a Jew ?</td>\n",
       "      <td>False</td>\n",
       "    </tr>\n",
       "  </tbody>\n",
       "</table>\n",
       "</div>"
      ],
      "text/plain": [
       "                                               label  target\n",
       "0             I wish I had been in the youth corps .   False\n",
       "1                            I just took that test .   False\n",
       "2  This is a video of a band from the Upper Siles...   False\n",
       "3  Not the best round by any means , but 2 or 3 5...   False\n",
       "4                                    Are you a Jew ?   False"
      ]
     },
     "execution_count": 21,
     "metadata": {},
     "output_type": "execute_result"
    }
   ],
   "source": [
    "# True     1196\n",
    "# False    9748\n",
    "\n",
    "hate = {}\n",
    "df = pd.read_csv(\"./hate-speech-dataset-master/annotations_metadata.csv\")\n",
    "\n",
    "for ind, row in df.iterrows():\n",
    "    hate[row['file_id']] = row['label'] == 'hate'\n",
    "#     print(row['file_id'], row['label'])\n",
    "\n",
    "import os\n",
    "all_rows = []\n",
    "for (cur, dirs, files) in os.walk('./hate-speech-dataset-master/all_files/'):\n",
    "    for file in files:\n",
    "        with open(cur + file, 'r') as fp:\n",
    "            tweet = \"\"\n",
    "            for line in fp:\n",
    "                tweet += line\n",
    "            all_rows.append([tweet, hate[file[:-4]]])\n",
    "ddf3 = pd.DataFrame(all_rows, columns=[\"label\", \"target\"])\n",
    "\n",
    "ddf3.head()"
   ]
  },
  {
   "cell_type": "code",
   "execution_count": 22,
   "id": "productive-freedom",
   "metadata": {},
   "outputs": [
    {
     "data": {
      "text/plain": [
       "False    43631\n",
       "True     24058\n",
       "Name: target, dtype: int64"
      ]
     },
     "execution_count": 22,
     "metadata": {},
     "output_type": "execute_result"
    }
   ],
   "source": [
    "res = pd.concat([ddf1, ddf2, ddf3])\n",
    "res.head()\n",
    "\n",
    "res.count()\n",
    "res[\"target\"].value_counts()"
   ]
  },
  {
   "cell_type": "code",
   "execution_count": 23,
   "id": "mighty-practitioner",
   "metadata": {},
   "outputs": [
    {
     "name": "stdout",
     "output_type": "stream",
     "text": [
      "compile_data.ipynb  hate_speech.csv\t\trandom\r\n",
      "compiled.csv\t    hate-speech-dataset-master\ttweets\r\n"
     ]
    }
   ],
   "source": [
    "!ls"
   ]
  },
  {
   "cell_type": "code",
   "execution_count": 24,
   "id": "temporal-faith",
   "metadata": {},
   "outputs": [
    {
     "data": {
      "text/html": [
       "<div>\n",
       "<style scoped>\n",
       "    .dataframe tbody tr th:only-of-type {\n",
       "        vertical-align: middle;\n",
       "    }\n",
       "\n",
       "    .dataframe tbody tr th {\n",
       "        vertical-align: top;\n",
       "    }\n",
       "\n",
       "    .dataframe thead th {\n",
       "        text-align: right;\n",
       "    }\n",
       "</style>\n",
       "<table border=\"1\" class=\"dataframe\">\n",
       "  <thead>\n",
       "    <tr style=\"text-align: right;\">\n",
       "      <th></th>\n",
       "      <th>label</th>\n",
       "      <th>target</th>\n",
       "    </tr>\n",
       "  </thead>\n",
       "  <tbody>\n",
       "    <tr>\n",
       "      <th>0</th>\n",
       "      <td>!!! RT @mayasolovely: As a woman you shouldn't...</td>\n",
       "      <td>False</td>\n",
       "    </tr>\n",
       "    <tr>\n",
       "      <th>1</th>\n",
       "      <td>!!!!! RT @mleew17: boy dats cold...tyga dwn ba...</td>\n",
       "      <td>True</td>\n",
       "    </tr>\n",
       "    <tr>\n",
       "      <th>2</th>\n",
       "      <td>!!!!!!! RT @UrKindOfBrand Dawg!!!! RT @80sbaby...</td>\n",
       "      <td>True</td>\n",
       "    </tr>\n",
       "    <tr>\n",
       "      <th>3</th>\n",
       "      <td>!!!!!!!!! RT @C_G_Anderson: @viva_based she lo...</td>\n",
       "      <td>True</td>\n",
       "    </tr>\n",
       "    <tr>\n",
       "      <th>4</th>\n",
       "      <td>!!!!!!!!!!!!! RT @ShenikaRoberts: The shit you...</td>\n",
       "      <td>True</td>\n",
       "    </tr>\n",
       "  </tbody>\n",
       "</table>\n",
       "</div>"
      ],
      "text/plain": [
       "                                               label  target\n",
       "0  !!! RT @mayasolovely: As a woman you shouldn't...   False\n",
       "1  !!!!! RT @mleew17: boy dats cold...tyga dwn ba...    True\n",
       "2  !!!!!!! RT @UrKindOfBrand Dawg!!!! RT @80sbaby...    True\n",
       "3  !!!!!!!!! RT @C_G_Anderson: @viva_based she lo...    True\n",
       "4  !!!!!!!!!!!!! RT @ShenikaRoberts: The shit you...    True"
      ]
     },
     "execution_count": 24,
     "metadata": {},
     "output_type": "execute_result"
    }
   ],
   "source": [
    "res.head()"
   ]
  },
  {
   "cell_type": "code",
   "execution_count": 25,
   "id": "photographic-reaction",
   "metadata": {},
   "outputs": [],
   "source": [
    "res['is_it_hate'] = res['target']"
   ]
  },
  {
   "cell_type": "code",
   "execution_count": 26,
   "id": "facial-taylor",
   "metadata": {},
   "outputs": [
    {
     "data": {
      "text/html": [
       "<div>\n",
       "<style scoped>\n",
       "    .dataframe tbody tr th:only-of-type {\n",
       "        vertical-align: middle;\n",
       "    }\n",
       "\n",
       "    .dataframe tbody tr th {\n",
       "        vertical-align: top;\n",
       "    }\n",
       "\n",
       "    .dataframe thead th {\n",
       "        text-align: right;\n",
       "    }\n",
       "</style>\n",
       "<table border=\"1\" class=\"dataframe\">\n",
       "  <thead>\n",
       "    <tr style=\"text-align: right;\">\n",
       "      <th></th>\n",
       "      <th>label</th>\n",
       "      <th>target</th>\n",
       "      <th>is_it_hate</th>\n",
       "    </tr>\n",
       "  </thead>\n",
       "  <tbody>\n",
       "    <tr>\n",
       "      <th>0</th>\n",
       "      <td>!!! RT @mayasolovely: As a woman you shouldn't...</td>\n",
       "      <td>False</td>\n",
       "      <td>False</td>\n",
       "    </tr>\n",
       "    <tr>\n",
       "      <th>1</th>\n",
       "      <td>!!!!! RT @mleew17: boy dats cold...tyga dwn ba...</td>\n",
       "      <td>True</td>\n",
       "      <td>True</td>\n",
       "    </tr>\n",
       "    <tr>\n",
       "      <th>2</th>\n",
       "      <td>!!!!!!! RT @UrKindOfBrand Dawg!!!! RT @80sbaby...</td>\n",
       "      <td>True</td>\n",
       "      <td>True</td>\n",
       "    </tr>\n",
       "    <tr>\n",
       "      <th>3</th>\n",
       "      <td>!!!!!!!!! RT @C_G_Anderson: @viva_based she lo...</td>\n",
       "      <td>True</td>\n",
       "      <td>True</td>\n",
       "    </tr>\n",
       "    <tr>\n",
       "      <th>4</th>\n",
       "      <td>!!!!!!!!!!!!! RT @ShenikaRoberts: The shit you...</td>\n",
       "      <td>True</td>\n",
       "      <td>True</td>\n",
       "    </tr>\n",
       "  </tbody>\n",
       "</table>\n",
       "</div>"
      ],
      "text/plain": [
       "                                               label  target  is_it_hate\n",
       "0  !!! RT @mayasolovely: As a woman you shouldn't...   False       False\n",
       "1  !!!!! RT @mleew17: boy dats cold...tyga dwn ba...    True        True\n",
       "2  !!!!!!! RT @UrKindOfBrand Dawg!!!! RT @80sbaby...    True        True\n",
       "3  !!!!!!!!! RT @C_G_Anderson: @viva_based she lo...    True        True\n",
       "4  !!!!!!!!!!!!! RT @ShenikaRoberts: The shit you...    True        True"
      ]
     },
     "execution_count": 26,
     "metadata": {},
     "output_type": "execute_result"
    }
   ],
   "source": [
    "res.head()"
   ]
  },
  {
   "cell_type": "code",
   "execution_count": 27,
   "id": "genetic-detective",
   "metadata": {},
   "outputs": [],
   "source": [
    "res.loc[res.target == True, \"is_it_hate\"] = 1\n",
    "res.loc[res.target == False, \"is_it_hate\"] = 0"
   ]
  },
  {
   "cell_type": "code",
   "execution_count": 30,
   "id": "instrumental-script",
   "metadata": {},
   "outputs": [
    {
     "data": {
      "text/html": [
       "<div>\n",
       "<style scoped>\n",
       "    .dataframe tbody tr th:only-of-type {\n",
       "        vertical-align: middle;\n",
       "    }\n",
       "\n",
       "    .dataframe tbody tr th {\n",
       "        vertical-align: top;\n",
       "    }\n",
       "\n",
       "    .dataframe thead th {\n",
       "        text-align: right;\n",
       "    }\n",
       "</style>\n",
       "<table border=\"1\" class=\"dataframe\">\n",
       "  <thead>\n",
       "    <tr style=\"text-align: right;\">\n",
       "      <th></th>\n",
       "      <th>label</th>\n",
       "      <th>target</th>\n",
       "      <th>is_it_hate</th>\n",
       "    </tr>\n",
       "  </thead>\n",
       "  <tbody>\n",
       "    <tr>\n",
       "      <th>0</th>\n",
       "      <td>!!! RT @mayasolovely: As a woman you shouldn't...</td>\n",
       "      <td>False</td>\n",
       "      <td>0</td>\n",
       "    </tr>\n",
       "    <tr>\n",
       "      <th>1</th>\n",
       "      <td>!!!!! RT @mleew17: boy dats cold...tyga dwn ba...</td>\n",
       "      <td>True</td>\n",
       "      <td>1</td>\n",
       "    </tr>\n",
       "    <tr>\n",
       "      <th>2</th>\n",
       "      <td>!!!!!!! RT @UrKindOfBrand Dawg!!!! RT @80sbaby...</td>\n",
       "      <td>True</td>\n",
       "      <td>1</td>\n",
       "    </tr>\n",
       "    <tr>\n",
       "      <th>3</th>\n",
       "      <td>!!!!!!!!! RT @C_G_Anderson: @viva_based she lo...</td>\n",
       "      <td>True</td>\n",
       "      <td>1</td>\n",
       "    </tr>\n",
       "    <tr>\n",
       "      <th>4</th>\n",
       "      <td>!!!!!!!!!!!!! RT @ShenikaRoberts: The shit you...</td>\n",
       "      <td>True</td>\n",
       "      <td>1</td>\n",
       "    </tr>\n",
       "    <tr>\n",
       "      <th>5</th>\n",
       "      <td>!!!!!!!!!!!!!!!!!!\"@T_Madison_x: The shit just...</td>\n",
       "      <td>True</td>\n",
       "      <td>1</td>\n",
       "    </tr>\n",
       "    <tr>\n",
       "      <th>6</th>\n",
       "      <td>!!!!!!\"@__BrighterDays: I can not just sit up ...</td>\n",
       "      <td>True</td>\n",
       "      <td>1</td>\n",
       "    </tr>\n",
       "    <tr>\n",
       "      <th>7</th>\n",
       "      <td>!!!!&amp;#8220;@selfiequeenbri: cause I'm tired of...</td>\n",
       "      <td>True</td>\n",
       "      <td>1</td>\n",
       "    </tr>\n",
       "    <tr>\n",
       "      <th>8</th>\n",
       "      <td>\" &amp;amp; you might not get ya bitch back &amp;amp; ...</td>\n",
       "      <td>True</td>\n",
       "      <td>1</td>\n",
       "    </tr>\n",
       "    <tr>\n",
       "      <th>9</th>\n",
       "      <td>\" @rhythmixx_ :hobbies include: fighting Maria...</td>\n",
       "      <td>True</td>\n",
       "      <td>1</td>\n",
       "    </tr>\n",
       "    <tr>\n",
       "      <th>10</th>\n",
       "      <td>\" Keeks is a bitch she curves everyone \" lol I...</td>\n",
       "      <td>True</td>\n",
       "      <td>1</td>\n",
       "    </tr>\n",
       "    <tr>\n",
       "      <th>11</th>\n",
       "      <td>\" Murda Gang bitch its Gang Land \"</td>\n",
       "      <td>True</td>\n",
       "      <td>1</td>\n",
       "    </tr>\n",
       "    <tr>\n",
       "      <th>12</th>\n",
       "      <td>\" So hoes that smoke are losers ? \" yea ... go...</td>\n",
       "      <td>True</td>\n",
       "      <td>1</td>\n",
       "    </tr>\n",
       "    <tr>\n",
       "      <th>13</th>\n",
       "      <td>\" bad bitches is the only thing that i like \"</td>\n",
       "      <td>True</td>\n",
       "      <td>1</td>\n",
       "    </tr>\n",
       "    <tr>\n",
       "      <th>14</th>\n",
       "      <td>\" bitch get up off me \"</td>\n",
       "      <td>True</td>\n",
       "      <td>1</td>\n",
       "    </tr>\n",
       "    <tr>\n",
       "      <th>15</th>\n",
       "      <td>\" bitch nigga miss me with it \"</td>\n",
       "      <td>True</td>\n",
       "      <td>1</td>\n",
       "    </tr>\n",
       "    <tr>\n",
       "      <th>16</th>\n",
       "      <td>\" bitch plz whatever \"</td>\n",
       "      <td>True</td>\n",
       "      <td>1</td>\n",
       "    </tr>\n",
       "    <tr>\n",
       "      <th>17</th>\n",
       "      <td>\" bitch who do you love \"</td>\n",
       "      <td>True</td>\n",
       "      <td>1</td>\n",
       "    </tr>\n",
       "    <tr>\n",
       "      <th>18</th>\n",
       "      <td>\" bitches get cut off everyday B \"</td>\n",
       "      <td>True</td>\n",
       "      <td>1</td>\n",
       "    </tr>\n",
       "    <tr>\n",
       "      <th>19</th>\n",
       "      <td>\" black bottle &amp;amp; a bad bitch \"</td>\n",
       "      <td>True</td>\n",
       "      <td>1</td>\n",
       "    </tr>\n",
       "  </tbody>\n",
       "</table>\n",
       "</div>"
      ],
      "text/plain": [
       "                                                label  target is_it_hate\n",
       "0   !!! RT @mayasolovely: As a woman you shouldn't...   False          0\n",
       "1   !!!!! RT @mleew17: boy dats cold...tyga dwn ba...    True          1\n",
       "2   !!!!!!! RT @UrKindOfBrand Dawg!!!! RT @80sbaby...    True          1\n",
       "3   !!!!!!!!! RT @C_G_Anderson: @viva_based she lo...    True          1\n",
       "4   !!!!!!!!!!!!! RT @ShenikaRoberts: The shit you...    True          1\n",
       "5   !!!!!!!!!!!!!!!!!!\"@T_Madison_x: The shit just...    True          1\n",
       "6   !!!!!!\"@__BrighterDays: I can not just sit up ...    True          1\n",
       "7   !!!!&#8220;@selfiequeenbri: cause I'm tired of...    True          1\n",
       "8   \" &amp; you might not get ya bitch back &amp; ...    True          1\n",
       "9   \" @rhythmixx_ :hobbies include: fighting Maria...    True          1\n",
       "10  \" Keeks is a bitch she curves everyone \" lol I...    True          1\n",
       "11                 \" Murda Gang bitch its Gang Land \"    True          1\n",
       "12  \" So hoes that smoke are losers ? \" yea ... go...    True          1\n",
       "13      \" bad bitches is the only thing that i like \"    True          1\n",
       "14                            \" bitch get up off me \"    True          1\n",
       "15                    \" bitch nigga miss me with it \"    True          1\n",
       "16                             \" bitch plz whatever \"    True          1\n",
       "17                          \" bitch who do you love \"    True          1\n",
       "18                 \" bitches get cut off everyday B \"    True          1\n",
       "19                 \" black bottle &amp; a bad bitch \"    True          1"
      ]
     },
     "execution_count": 30,
     "metadata": {},
     "output_type": "execute_result"
    }
   ],
   "source": [
    "res.head(20)"
   ]
  },
  {
   "cell_type": "code",
   "execution_count": 29,
   "id": "defined-colonial",
   "metadata": {},
   "outputs": [],
   "source": [
    "res.to_csv('./compiled.csv')"
   ]
  },
  {
   "cell_type": "code",
   "execution_count": 31,
   "id": "scheduled-capacity",
   "metadata": {},
   "outputs": [
    {
     "name": "stdout",
     "output_type": "stream",
     "text": [
      "<class 'pandas.core.frame.DataFrame'>\n",
      "Int64Index: 67689 entries, 0 to 10943\n",
      "Data columns (total 3 columns):\n",
      " #   Column      Non-Null Count  Dtype \n",
      "---  ------      --------------  ----- \n",
      " 0   label       67689 non-null  object\n",
      " 1   target      67689 non-null  bool  \n",
      " 2   is_it_hate  67689 non-null  object\n",
      "dtypes: bool(1), object(2)\n",
      "memory usage: 1.6+ MB\n"
     ]
    }
   ],
   "source": [
    "res.info()"
   ]
  },
  {
   "cell_type": "code",
   "execution_count": 32,
   "id": "verbal-patrick",
   "metadata": {},
   "outputs": [
    {
     "data": {
      "text/html": [
       "<div>\n",
       "<style scoped>\n",
       "    .dataframe tbody tr th:only-of-type {\n",
       "        vertical-align: middle;\n",
       "    }\n",
       "\n",
       "    .dataframe tbody tr th {\n",
       "        vertical-align: top;\n",
       "    }\n",
       "\n",
       "    .dataframe thead th {\n",
       "        text-align: right;\n",
       "    }\n",
       "</style>\n",
       "<table border=\"1\" class=\"dataframe\">\n",
       "  <thead>\n",
       "    <tr style=\"text-align: right;\">\n",
       "      <th></th>\n",
       "      <th>label</th>\n",
       "      <th>target</th>\n",
       "      <th>is_it_hate</th>\n",
       "    </tr>\n",
       "  </thead>\n",
       "  <tbody>\n",
       "    <tr>\n",
       "      <th>count</th>\n",
       "      <td>67689</td>\n",
       "      <td>67689</td>\n",
       "      <td>67689</td>\n",
       "    </tr>\n",
       "    <tr>\n",
       "      <th>unique</th>\n",
       "      <td>65073</td>\n",
       "      <td>2</td>\n",
       "      <td>2</td>\n",
       "    </tr>\n",
       "    <tr>\n",
       "      <th>top</th>\n",
       "      <td>#model   i love u take with u all the time in ...</td>\n",
       "      <td>False</td>\n",
       "      <td>0</td>\n",
       "    </tr>\n",
       "    <tr>\n",
       "      <th>freq</th>\n",
       "      <td>319</td>\n",
       "      <td>43631</td>\n",
       "      <td>43631</td>\n",
       "    </tr>\n",
       "  </tbody>\n",
       "</table>\n",
       "</div>"
      ],
      "text/plain": [
       "                                                    label target  is_it_hate\n",
       "count                                               67689  67689       67689\n",
       "unique                                              65073      2           2\n",
       "top     #model   i love u take with u all the time in ...  False           0\n",
       "freq                                                  319  43631       43631"
      ]
     },
     "execution_count": 32,
     "metadata": {},
     "output_type": "execute_result"
    }
   ],
   "source": [
    "res.describe()"
   ]
  },
  {
   "cell_type": "code",
   "execution_count": null,
   "id": "chicken-breakdown",
   "metadata": {},
   "outputs": [],
   "source": []
  }
 ],
 "metadata": {
  "kernelspec": {
   "display_name": "Python 3",
   "language": "python",
   "name": "python3"
  },
  "language_info": {
   "codemirror_mode": {
    "name": "ipython",
    "version": 3
   },
   "file_extension": ".py",
   "mimetype": "text/x-python",
   "name": "python",
   "nbconvert_exporter": "python",
   "pygments_lexer": "ipython3",
   "version": "3.7.6"
  }
 },
 "nbformat": 4,
 "nbformat_minor": 5
}
